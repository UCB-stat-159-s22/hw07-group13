{
 "cells": [
  {
   "cell_type": "markdown",
   "id": "2ca1e928-3693-4384-8887-c1cc3dd619bc",
   "metadata": {},
   "source": [
    "# Exploring the Air Quality of the San Francisco Bay Area using OpenAQ #\n",
    "\n",
    "### STAT 159/259 Final Project ###\n",
    "Authors: Wesley Darling, Gyuhyeon Seo, Ram Kripa, Jae Hee Koh"
   ]
  },
  {
   "cell_type": "markdown",
   "id": "0f54cfcd-902a-4266-adbb-853ce2be1540",
   "metadata": {},
   "source": [
    "## Project Motivation ##\n",
    "\n",
    "On September 9th, 2020, in the midst of the COVID-19 pandemic and wildfires up and down the State of California, residents of the San Francisco Bay Area woke up to a shocking sight: \n",
    "\n",
    "<center><img src=\"https://s.hdnux.com/photos/01/14/04/25/19940696/15/rawImage.jpg\" width=\"700\" height=\"700\" /></center>\n",
    "\n",
    "The smoke from the multiple wildfires taking place inland had been carried by air currents into the Bay Area, causing the sunlight to refract and obscure in a way that made the sky orange. For those of us that were in the Bay Area on that day, it's impossible to forget the experience of waking up and expecting the lovely California sunshine and instead finding yourself waking to a hellish-looking sky. So often we forget about what air quality truly means, going about our day and taking it for granted. That day was a wakeup call that, if we continue to neglect our environment in the way we have been, days like September 9th, 2020 may become all the more common. In fact, poor air quality is the leading cause of death for more than 1 in 8 people, and air pollution is the [4th largest risk factor to human health worldwide](https://openaq.org/#/why). It is of the utmost importance that air and the factors negatively affecting its quality be sufficiently monitored and understood by those who breath it (i.e., *__everyone__*). \n",
    "\n",
    "## Introduction ##\n",
    "\n",
    "With this motivation in mind, we decided to focus the work of our project on exploring the air quality of the San Francisco Bay Area, taking a look at that specific Dark Day (9/9/2020) as well as the current air quality status of the area. For this project, we used the [OpenAQ dataset](https://openaq.org/#/), a repository of air quality data collected from 49,000 locations worldwide that is freely available and open to the public. Using the [`py-openaq` module](https://github.com/dhhagan/py-openaq) to easily make data requests from the OpenAQ API and a variety of utility functions we developed ourselves (available in the `aq tools` folder), we explored, visualized, and analyzed OpenAQ data related to the San Francisco Bay Area. We chose to focus on the Bay Area for tractability purposes (it limits the number of API calls necessary -- requesting data for the entire USA led to issues with overwhelming the API) and because it is a location both with which we are familiar and of which we care about the well-being. This report begins with an exploration of the data available and then continues into a visualization of the air quality in several locations of the Bay Area, as well as the entire Bay Area and State of California  "
   ]
  },
  {
   "cell_type": "markdown",
   "id": "e71fc7e5-1348-4b94-a2a0-b3db48b98e61",
   "metadata": {},
   "source": []
  },
  {
   "cell_type": "markdown",
   "id": "6886d421-b372-4327-89e1-f67b0ae6386b",
   "metadata": {},
   "source": [
    "## Data Exploration ##\n",
    "\n",
    "Exploring the Data"
   ]
  },
  {
   "cell_type": "markdown",
   "id": "abf48df0-0976-4333-86fd-a3049ce075e7",
   "metadata": {
    "tags": []
   },
   "source": [
    "## Visualization of SF Bay Area Air Quality ##\n",
    "\n",
    "Visualization"
   ]
  },
  {
   "cell_type": "markdown",
   "id": "4917da95-6a8d-4616-9d6a-a4210d273fd7",
   "metadata": {},
   "source": [
    "## Analysis I: Report from Gyuhyeon ##\n",
    "\n",
    "Text"
   ]
  },
  {
   "cell_type": "markdown",
   "id": "35995aa8-fa6a-419c-903c-14bdcfab29da",
   "metadata": {},
   "source": [
    "## Analysis II: Report from Ram ##\n",
    "\n",
    "Text"
   ]
  },
  {
   "cell_type": "markdown",
   "id": "8b8aee82-f010-4589-a634-82e019b834ad",
   "metadata": {},
   "source": [
    "## Conclusion ##"
   ]
  },
  {
   "cell_type": "markdown",
   "id": "9e804534-dcb6-487e-967b-b985e78d11cd",
   "metadata": {},
   "source": [
    "assumptions\n",
    "statistical hypotheses/justifications\n",
    "a few simple, scientifically interesting questions\n",
    "author contribution statement"
   ]
  },
  {
   "cell_type": "code",
   "execution_count": null,
   "id": "a5cf66b9-8d50-41fa-ad4e-548edf10bcf5",
   "metadata": {},
   "outputs": [],
   "source": []
  },
  {
   "cell_type": "markdown",
   "id": "553e8a8b-badb-44a7-aab6-97a1da1bc884",
   "metadata": {},
   "source": [
    "## Author Contributions ##"
   ]
  },
  {
   "cell_type": "markdown",
   "id": "221a214a-4ff1-4c3a-90ea-f071cd0179ff",
   "metadata": {},
   "source": [
    "Wesley Darling: ExplorationAndVisualization.ipynb, viz_utils.py, test_viz_utils.py, environment.yml, Makefile, README.md, Main.ibynb"
   ]
  },
  {
   "cell_type": "code",
   "execution_count": null,
   "id": "2866fe8c-f91f-4727-904c-138abcae8d6d",
   "metadata": {},
   "outputs": [],
   "source": []
  }
 ],
 "metadata": {
  "kernelspec": {
   "display_name": "IPython - aqproject",
   "language": "python",
   "name": "aqproject"
  },
  "language_info": {
   "codemirror_mode": {
    "name": "ipython",
    "version": 3
   },
   "file_extension": ".py",
   "mimetype": "text/x-python",
   "name": "python",
   "nbconvert_exporter": "python",
   "pygments_lexer": "ipython3",
   "version": "3.10.4"
  }
 },
 "nbformat": 4,
 "nbformat_minor": 5
}
