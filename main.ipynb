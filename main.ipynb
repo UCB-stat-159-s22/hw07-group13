{
 "cells": [
  {
   "cell_type": "code",
   "execution_count": 76,
   "id": "5fcf9202-4821-46fc-a8c4-d8e08f88129b",
   "metadata": {},
   "outputs": [],
   "source": [
    "import openaq\n",
    "import pandas as pd\n",
    "import numpy as np\n",
    "import matplotlib.pyplot as plt\n",
    "from aqtools import aqutils as u\n",
    "api = openaq.OpenAQ()"
   ]
  },
  {
   "cell_type": "code",
   "execution_count": 60,
   "id": "e3975665-3317-4757-92d8-d70f10c2aa35",
   "metadata": {},
   "outputs": [
    {
     "data": {
      "text/html": [
       "<div>\n",
       "<style scoped>\n",
       "    .dataframe tbody tr th:only-of-type {\n",
       "        vertical-align: middle;\n",
       "    }\n",
       "\n",
       "    .dataframe tbody tr th {\n",
       "        vertical-align: top;\n",
       "    }\n",
       "\n",
       "    .dataframe thead th {\n",
       "        text-align: right;\n",
       "    }\n",
       "</style>\n",
       "<table border=\"1\" class=\"dataframe\">\n",
       "  <thead>\n",
       "    <tr style=\"text-align: right;\">\n",
       "      <th>parameter</th>\n",
       "      <th>co</th>\n",
       "      <th>no2</th>\n",
       "      <th>o3</th>\n",
       "      <th>pm25</th>\n",
       "    </tr>\n",
       "    <tr>\n",
       "      <th>date</th>\n",
       "      <th></th>\n",
       "      <th></th>\n",
       "      <th></th>\n",
       "      <th></th>\n",
       "    </tr>\n",
       "  </thead>\n",
       "  <tbody>\n",
       "    <tr>\n",
       "      <th>2022-01-10 00:00:00</th>\n",
       "      <td>0.51</td>\n",
       "      <td>0.013</td>\n",
       "      <td>0.006</td>\n",
       "      <td>18.0</td>\n",
       "    </tr>\n",
       "    <tr>\n",
       "      <th>2022-01-10 02:00:00</th>\n",
       "      <td>0.33</td>\n",
       "      <td>0.004</td>\n",
       "      <td>0.017</td>\n",
       "      <td>8.0</td>\n",
       "    </tr>\n",
       "    <tr>\n",
       "      <th>2022-01-10 04:00:00</th>\n",
       "      <td>0.47</td>\n",
       "      <td>0.016</td>\n",
       "      <td>0.004</td>\n",
       "      <td>9.0</td>\n",
       "    </tr>\n",
       "    <tr>\n",
       "      <th>2022-01-10 05:00:00</th>\n",
       "      <td>0.62</td>\n",
       "      <td>0.020</td>\n",
       "      <td>0.000</td>\n",
       "      <td>16.0</td>\n",
       "    </tr>\n",
       "    <tr>\n",
       "      <th>2022-01-10 06:00:00</th>\n",
       "      <td>0.81</td>\n",
       "      <td>0.021</td>\n",
       "      <td>0.000</td>\n",
       "      <td>17.0</td>\n",
       "    </tr>\n",
       "    <tr>\n",
       "      <th>...</th>\n",
       "      <td>...</td>\n",
       "      <td>...</td>\n",
       "      <td>...</td>\n",
       "      <td>...</td>\n",
       "    </tr>\n",
       "    <tr>\n",
       "      <th>2022-05-10 02:00:00</th>\n",
       "      <td>0.24</td>\n",
       "      <td>0.004</td>\n",
       "      <td>0.033</td>\n",
       "      <td>5.0</td>\n",
       "    </tr>\n",
       "    <tr>\n",
       "      <th>2022-05-10 03:00:00</th>\n",
       "      <td>0.31</td>\n",
       "      <td>0.009</td>\n",
       "      <td>0.018</td>\n",
       "      <td>2.0</td>\n",
       "    </tr>\n",
       "    <tr>\n",
       "      <th>2022-05-10 05:00:00</th>\n",
       "      <td>0.37</td>\n",
       "      <td>0.013</td>\n",
       "      <td>0.013</td>\n",
       "      <td>5.0</td>\n",
       "    </tr>\n",
       "    <tr>\n",
       "      <th>2022-05-10 06:00:00</th>\n",
       "      <td>0.49</td>\n",
       "      <td>0.016</td>\n",
       "      <td>0.009</td>\n",
       "      <td>6.0</td>\n",
       "    </tr>\n",
       "    <tr>\n",
       "      <th>2022-05-10 07:00:00</th>\n",
       "      <td>0.47</td>\n",
       "      <td>0.013</td>\n",
       "      <td>0.018</td>\n",
       "      <td>5.0</td>\n",
       "    </tr>\n",
       "  </tbody>\n",
       "</table>\n",
       "<p>2181 rows × 4 columns</p>\n",
       "</div>"
      ],
      "text/plain": [
       "parameter              co    no2     o3  pm25\n",
       "date                                         \n",
       "2022-01-10 00:00:00  0.51  0.013  0.006  18.0\n",
       "2022-01-10 02:00:00  0.33  0.004  0.017   8.0\n",
       "2022-01-10 04:00:00  0.47  0.016  0.004   9.0\n",
       "2022-01-10 05:00:00  0.62  0.020  0.000  16.0\n",
       "2022-01-10 06:00:00  0.81  0.021  0.000  17.0\n",
       "...                   ...    ...    ...   ...\n",
       "2022-05-10 02:00:00  0.24  0.004  0.033   5.0\n",
       "2022-05-10 03:00:00  0.31  0.009  0.018   2.0\n",
       "2022-05-10 05:00:00  0.37  0.013  0.013   5.0\n",
       "2022-05-10 06:00:00  0.49  0.016  0.009   6.0\n",
       "2022-05-10 07:00:00  0.47  0.013  0.018   5.0\n",
       "\n",
       "[2181 rows x 4 columns]"
      ]
     },
     "execution_count": 60,
     "metadata": {},
     "output_type": "execute_result"
    }
   ],
   "source": [
    "status, resp = api.measurements(city = 'San Francisco-Oakland-Fremont', location='Oakland', parameter=['pm25','co', 'no2','o3'], limit=5000)\n",
    "r = resp['results']\n",
    "df = pd.DataFrame(data=r)\n",
    "\n",
    "dates = []\n",
    "for date in df['date'].values:\n",
    "    local_date = date['local']\n",
    "    d = u.cleaning_date(local_date)\n",
    "    dates.append(d)\n",
    "df['date'] = dates\n",
    "df = df.reindex(columns=['parameter', 'value', 'date'])\n",
    "df = df.pivot(index='date', columns='parameter', values='value')\n",
    "df = df.dropna()\n",
    "df"
   ]
  },
  {
   "cell_type": "code",
   "execution_count": 66,
   "id": "9eda64ba-9c6d-43cd-8847-8b74d2569ec0",
   "metadata": {},
   "outputs": [
    {
     "name": "stderr",
     "output_type": "stream",
     "text": [
      "/tmp/ipykernel_8105/2430566074.py:4: SettingWithCopyWarning: \n",
      "A value is trying to be set on a copy of a slice from a DataFrame.\n",
      "Try using .loc[row_indexer,col_indexer] = value instead\n",
      "\n",
      "See the caveats in the documentation: https://pandas.pydata.org/pandas-docs/stable/user_guide/indexing.html#returning-a-view-versus-a-copy\n",
      "  df['co'] = co_standardized\n",
      "/tmp/ipykernel_8105/2430566074.py:8: SettingWithCopyWarning: \n",
      "A value is trying to be set on a copy of a slice from a DataFrame.\n",
      "Try using .loc[row_indexer,col_indexer] = value instead\n",
      "\n",
      "See the caveats in the documentation: https://pandas.pydata.org/pandas-docs/stable/user_guide/indexing.html#returning-a-view-versus-a-copy\n",
      "  df['no2'] = no2_standardized\n",
      "/tmp/ipykernel_8105/2430566074.py:12: SettingWithCopyWarning: \n",
      "A value is trying to be set on a copy of a slice from a DataFrame.\n",
      "Try using .loc[row_indexer,col_indexer] = value instead\n",
      "\n",
      "See the caveats in the documentation: https://pandas.pydata.org/pandas-docs/stable/user_guide/indexing.html#returning-a-view-versus-a-copy\n",
      "  df['o3'] = o3_standardized\n"
     ]
    },
    {
     "data": {
      "image/png": "[encoded data removed]",
      "text/plain": [
       "<Figure size 432x288 with 4 Axes>"
      ]
     },
     "metadata": {
      "needs_background": "light"
     },
     "output_type": "display_data"
    }
   ],
   "source": [
    "# Standardization\n",
    "co = df['co'].values\n",
    "co_standardized = (co - co.mean()) / co.std()\n",
    "df['co'] = co_standardized\n",
    "\n",
    "no2 = df['no2'].values\n",
    "no2_standardized = (no2 - no2.mean()) / no2.std()\n",
    "df['no2'] = no2_standardized\n",
    "\n",
    "o3 = df['o3'].values\n",
    "o3_standardized = (o3 - o3.mean()) / o3.std()\n",
    "df['o3'] = o3_standardized\n",
    "df.plot(subplots=True)\n",
    "plt.show()\n"
   ]
  },
  {
   "cell_type": "code",
   "execution_count": 68,
   "id": "6d1ad38e-a0ab-43c6-931f-a68d19f5a8ea",
   "metadata": {},
   "outputs": [
    {
     "name": "stderr",
     "output_type": "stream",
     "text": [
      "/tmp/ipykernel_8105/1345606581.py:9: SettingWithCopyWarning: \n",
      "A value is trying to be set on a copy of a slice from a DataFrame.\n",
      "Try using .loc[row_indexer,col_indexer] = value instead\n",
      "\n",
      "See the caveats in the documentation: https://pandas.pydata.org/pandas-docs/stable/user_guide/indexing.html#returning-a-view-versus-a-copy\n",
      "  df['co'] = co_diff\n",
      "/tmp/ipykernel_8105/1345606581.py:10: SettingWithCopyWarning: \n",
      "A value is trying to be set on a copy of a slice from a DataFrame.\n",
      "Try using .loc[row_indexer,col_indexer] = value instead\n",
      "\n",
      "See the caveats in the documentation: https://pandas.pydata.org/pandas-docs/stable/user_guide/indexing.html#returning-a-view-versus-a-copy\n",
      "  df['no2'] = no2_diff\n",
      "/tmp/ipykernel_8105/1345606581.py:11: SettingWithCopyWarning: \n",
      "A value is trying to be set on a copy of a slice from a DataFrame.\n",
      "Try using .loc[row_indexer,col_indexer] = value instead\n",
      "\n",
      "See the caveats in the documentation: https://pandas.pydata.org/pandas-docs/stable/user_guide/indexing.html#returning-a-view-versus-a-copy\n",
      "  df['o3'] = o3_diff\n"
     ]
    },
    {
     "data": {
      "image/png": "[encoded data removed]",
      "text/plain": [
       "<Figure size 432x288 with 4 Axes>"
      ]
     },
     "metadata": {
      "needs_background": "light"
     },
     "output_type": "display_data"
    }
   ],
   "source": [
    "# Make data stationary\n",
    "co_diff = u.differencing(df['co'].values)\n",
    "no2_diff = u.differencing(df['no2'].values)\n",
    "o3_diff = u.differencing(df['o3'].values)\n",
    "\n",
    "# Delete the first row\n",
    "df = df.iloc[1:, :]\n",
    "\n",
    "df['co'] = co_diff\n",
    "df['no2'] = no2_diff\n",
    "df['o3'] = o3_diff\n",
    "df.plot(subplots=True)\n",
    "plt.show()"
   ]
  },
  {
   "cell_type": "code",
   "execution_count": 77,
   "id": "1446e8f0-642c-4fc5-b7ca-ebb7e505a2db",
   "metadata": {},
   "outputs": [
    {
     "ename": "AttributeError",
     "evalue": "module 'aqtools.aqutils' has no attribute 'make_dataset'",
     "output_type": "error",
     "traceback": [
      "\u001b[0;31m---------------------------------------------------------------------------\u001b[0m",
      "\u001b[0;31mAttributeError\u001b[0m                            Traceback (most recent call last)",
      "Input \u001b[0;32mIn [77]\u001b[0m, in \u001b[0;36m<cell line: 7>\u001b[0;34m()\u001b[0m\n\u001b[1;32m      4\u001b[0m label_np \u001b[38;5;241m=\u001b[39m df\u001b[38;5;241m.\u001b[39mto_numpy()[:, \u001b[38;5;241m-\u001b[39m\u001b[38;5;241m1\u001b[39m]\n\u001b[1;32m      6\u001b[0m \u001b[38;5;66;03m# window size = 24\u001b[39;00m\n\u001b[0;32m----> 7\u001b[0m X, y \u001b[38;5;241m=\u001b[39m \u001b[43mu\u001b[49m\u001b[38;5;241;43m.\u001b[39;49m\u001b[43mmake_dataset\u001b[49m(feature_np, label_np, \u001b[38;5;241m24\u001b[39m)\n\u001b[1;32m      8\u001b[0m X\u001b[38;5;241m.\u001b[39mshape, y\u001b[38;5;241m.\u001b[39mshape\n",
      "\u001b[0;31mAttributeError\u001b[0m: module 'aqtools.aqutils' has no attribute 'make_dataset'"
     ]
    }
   ],
   "source": [
    "# feature vectors\n",
    "feature_np = df.to_numpy()[:, :3]\n",
    "# label\n",
    "label_np = df.to_numpy()[:, -1]\n",
    "\n",
    "feature_list = []\n",
    "label_list = []\n",
    "for i in range(len(feature_np) - 24):\n",
    "    feature_list.append(feature_np[i:i+24])\n",
    "    label_list.append(label_np[i+24])\n",
    "\n",
    "X, y = np.array(feature_list), np.array(label_list)\n",
    "X.shape, y.shape"
   ]
  },
  {
   "cell_type": "code",
   "execution_count": 43,
   "id": "5734d7fb-c485-4fc9-9ea9-093bf0049b6d",
   "metadata": {},
   "outputs": [
    {
     "data": {
      "text/plain": [
       "((1956, 24, 3), (200, 24, 3))"
      ]
     },
     "execution_count": 43,
     "metadata": {},
     "output_type": "execute_result"
    }
   ],
   "source": [
    "from sklearn.model_selection import train_test_split\n",
    "\n",
    "TEST_SIZE = 200\n",
    "WINDOW_SIZE = 24\n",
    "\n",
    "X_train = X[:-TEST_SIZE]\n",
    "y_train = y[:-TEST_SIZE]\n",
    "X_test = X[-TEST_SIZE:]\n",
    "y_test = y[-TEST_SIZE:]\n",
    "\n",
    "\n",
    "X_train.shape, X_test.shape"
   ]
  },
  {
   "cell_type": "code",
   "execution_count": 53,
   "id": "9819c0f2-5a10-4edf-9f5e-ee3f2b2a4641",
   "metadata": {},
   "outputs": [
    {
     "name": "stdout",
     "output_type": "stream",
     "text": [
      "Model: \"sequential_7\"\n",
      "_________________________________________________________________\n",
      " Layer (type)                Output Shape              Param #   \n",
      "=================================================================\n",
      " gru_10 (GRU)                (None, 24, 50)            8250      \n",
      "                                                                 \n",
      " dropout_7 (Dropout)         (None, 24, 50)            0         \n",
      "                                                                 \n",
      " dense_3 (Dense)             (None, 24, 1)             51        \n",
      "                                                                 \n",
      "=================================================================\n",
      "Total params: 8,301\n",
      "Trainable params: 8,301\n",
      "Non-trainable params: 0\n",
      "_________________________________________________________________\n"
     ]
    }
   ],
   "source": [
    "import tensorflow as tf\n",
    "from tensorflow.keras import Sequential\n",
    "from tensorflow.keras.layers import Dense, GRU, Dropout\n",
    "\n",
    "model = Sequential()\n",
    "model.add(GRU(units=50, activation=\"relu\", return_sequences=True, input_shape = X_train[0].shape))\n",
    "model.add(Dropout(0.2))\n",
    "model.add(Dense(units=1))\n",
    "model.summary()\n"
   ]
  },
  {
   "cell_type": "code",
   "execution_count": 54,
   "id": "78aab9cc-b841-4a2e-8ddd-c9ca8b78cec7",
   "metadata": {},
   "outputs": [
    {
     "name": "stdout",
     "output_type": "stream",
     "text": [
      "Epoch 1/100\n",
      "41/41 [==============================] - 4s 64ms/step - loss: 108.7612 - mae: 8.5059 - val_loss: 33.8382 - val_mae: 4.9136\n",
      "Epoch 2/100\n",
      "41/41 [==============================] - 1s 20ms/step - loss: 62.9125 - mae: 6.0013 - val_loss: 20.4778 - val_mae: 3.6214\n",
      "Epoch 3/100\n",
      "41/41 [==============================] - 1s 20ms/step - loss: 51.1624 - mae: 5.3837 - val_loss: 18.3051 - val_mae: 3.4745\n",
      "Epoch 4/100\n",
      "41/41 [==============================] - 1s 20ms/step - loss: 46.2324 - mae: 5.1333 - val_loss: 15.5353 - val_mae: 3.1804\n",
      "Epoch 5/100\n",
      "41/41 [==============================] - 1s 21ms/step - loss: 43.7973 - mae: 4.9843 - val_loss: 16.1305 - val_mae: 3.3049\n",
      "Epoch 6/100\n",
      "41/41 [==============================] - 1s 21ms/step - loss: 42.6245 - mae: 4.9288 - val_loss: 15.9691 - val_mae: 3.3016\n",
      "Epoch 7/100\n",
      "41/41 [==============================] - 1s 22ms/step - loss: 41.8666 - mae: 4.8957 - val_loss: 15.1217 - val_mae: 3.2045\n",
      "Epoch 8/100\n",
      "41/41 [==============================] - 1s 21ms/step - loss: 41.2849 - mae: 4.8388 - val_loss: 15.6048 - val_mae: 3.2777\n",
      "Epoch 9/100\n",
      "41/41 [==============================] - 1s 20ms/step - loss: 40.7942 - mae: 4.8349 - val_loss: 15.1791 - val_mae: 3.2303\n",
      "Epoch 10/100\n",
      "41/41 [==============================] - 1s 20ms/step - loss: 40.4631 - mae: 4.8138 - val_loss: 17.8397 - val_mae: 3.5695\n",
      "Epoch 11/100\n",
      "41/41 [==============================] - 1s 20ms/step - loss: 40.1146 - mae: 4.7974 - val_loss: 16.0097 - val_mae: 3.3435\n",
      "Epoch 12/100\n",
      "41/41 [==============================] - 1s 20ms/step - loss: 39.9025 - mae: 4.7803 - val_loss: 15.4563 - val_mae: 3.2759\n"
     ]
    },
    {
     "data": {
      "text/plain": [
       "<keras.callbacks.History at 0x7fc785867490>"
      ]
     },
     "execution_count": 54,
     "metadata": {},
     "output_type": "execute_result"
    }
   ],
   "source": [
    "from tensorflow.keras.callbacks import EarlyStopping\n",
    "\n",
    "model.compile(loss='mse', optimizer='adam', metrics=['mae'])\n",
    "early_stop = EarlyStopping(monitor='val_loss', patience=5)\n",
    "model.fit(X_train, y_train, validation_data=(X_test, y_test), epochs=100, batch_size=48, callbacks=[early_stop])"
   ]
  },
  {
   "cell_type": "code",
   "execution_count": 56,
   "id": "49767a5b-923d-4ac1-b99d-8045da34ce97",
   "metadata": {},
   "outputs": [
    {
     "name": "stdout",
     "output_type": "stream",
     "text": [
      "5/5 [==============================] - 0s 7ms/step - loss: 15.4563 - mae: 3.2759\n"
     ]
    }
   ],
   "source": [
    "# pred = model.predict(X_test)\n",
    "# print(pred.shape)\n",
    "# plt.figure(figsize=(12,6))\n",
    "# plt.plot(y_test, label='actual')\n",
    "# plt.plot(pred, label='prediction')\n",
    "# plt.grid()\n",
    "# plt.legend(loc='best')\n",
    "# plt.show()\n",
    "mse,mae = model.evaluate(X_test,y_test,batch_size=48)"
   ]
  },
  {
   "cell_type": "code",
   "execution_count": 50,
   "id": "8fe44f4a-8462-48e6-b2a7-94dddc284765",
   "metadata": {},
   "outputs": [
    {
     "data": {
      "text/plain": [
       "array([[9.076301 ],\n",
       "       [9.318673 ],\n",
       "       [9.38997  ],\n",
       "       [9.397708 ],\n",
       "       [9.382081 ],\n",
       "       [9.335633 ],\n",
       "       [9.310672 ],\n",
       "       [9.424713 ],\n",
       "       [9.427144 ],\n",
       "       [9.414912 ],\n",
       "       [9.412061 ],\n",
       "       [9.4035845],\n",
       "       [9.395853 ],\n",
       "       [9.399213 ],\n",
       "       [9.410685 ],\n",
       "       [9.424859 ],\n",
       "       [9.440701 ],\n",
       "       [9.457319 ],\n",
       "       [9.4896   ],\n",
       "       [9.513261 ],\n",
       "       [9.566259 ],\n",
       "       [9.583036 ],\n",
       "       [9.594165 ],\n",
       "       [9.600193 ]], dtype=float32)"
      ]
     },
     "execution_count": 50,
     "metadata": {},
     "output_type": "execute_result"
    }
   ],
   "source": [
    "pred[0]"
   ]
  },
  {
   "cell_type": "code",
   "execution_count": null,
   "id": "bba2b0fe-a97e-4682-b41c-1a3c32437803",
   "metadata": {},
   "outputs": [],
   "source": []
  }
 ],
 "metadata": {
  "kernelspec": {
   "display_name": "IPython - aqproject",
   "language": "python",
   "name": "aqproject"
  },
  "language_info": {
   "codemirror_mode": {
    "name": "ipython",
    "version": 3
   },
   "file_extension": ".py",
   "mimetype": "text/x-python",
   "name": "python",
   "nbconvert_exporter": "python",
   "pygments_lexer": "ipython3",
   "version": "3.8.6"
  }
 },
 "nbformat": 4,
 "nbformat_minor": 5
}
